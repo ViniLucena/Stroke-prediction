{
  "cells": [
    {
      "cell_type": "code",
      "execution_count": null,
      "metadata": {
        "colab": {
          "base_uri": "https://localhost:8080/"
        },
        "id": "KZc_-BX1hQK1",
        "outputId": "3bab8aa4-8302-4286-812b-3ff6a1ab3f1a"
      },
      "outputs": [
        {
          "output_type": "stream",
          "name": "stdout",
          "text": [
            "Looking in indexes: https://pypi.org/simple, https://us-python.pkg.dev/colab-wheels/public/simple/\n",
            "Collecting flask-ngrok\n",
            "  Downloading flask_ngrok-0.0.25-py3-none-any.whl (3.1 kB)\n",
            "Requirement already satisfied: Flask>=0.8 in /usr/local/lib/python3.8/dist-packages (from flask-ngrok) (1.1.4)\n",
            "Requirement already satisfied: requests in /usr/local/lib/python3.8/dist-packages (from flask-ngrok) (2.23.0)\n",
            "Requirement already satisfied: Werkzeug<2.0,>=0.15 in /usr/local/lib/python3.8/dist-packages (from Flask>=0.8->flask-ngrok) (1.0.1)\n",
            "Requirement already satisfied: itsdangerous<2.0,>=0.24 in /usr/local/lib/python3.8/dist-packages (from Flask>=0.8->flask-ngrok) (1.1.0)\n",
            "Requirement already satisfied: click<8.0,>=5.1 in /usr/local/lib/python3.8/dist-packages (from Flask>=0.8->flask-ngrok) (7.1.2)\n",
            "Requirement already satisfied: Jinja2<3.0,>=2.10.1 in /usr/local/lib/python3.8/dist-packages (from Flask>=0.8->flask-ngrok) (2.11.3)\n",
            "Requirement already satisfied: MarkupSafe>=0.23 in /usr/local/lib/python3.8/dist-packages (from Jinja2<3.0,>=2.10.1->Flask>=0.8->flask-ngrok) (2.0.1)\n",
            "Requirement already satisfied: idna<3,>=2.5 in /usr/local/lib/python3.8/dist-packages (from requests->flask-ngrok) (2.10)\n",
            "Requirement already satisfied: chardet<4,>=3.0.2 in /usr/local/lib/python3.8/dist-packages (from requests->flask-ngrok) (3.0.4)\n",
            "Requirement already satisfied: urllib3!=1.25.0,!=1.25.1,<1.26,>=1.21.1 in /usr/local/lib/python3.8/dist-packages (from requests->flask-ngrok) (1.24.3)\n",
            "Requirement already satisfied: certifi>=2017.4.17 in /usr/local/lib/python3.8/dist-packages (from requests->flask-ngrok) (2022.9.24)\n",
            "Installing collected packages: flask-ngrok\n",
            "Successfully installed flask-ngrok-0.0.25\n",
            "Looking in indexes: https://pypi.org/simple, https://us-python.pkg.dev/colab-wheels/public/simple/\n",
            "Collecting pyngrok\n",
            "  Downloading pyngrok-5.2.1.tar.gz (761 kB)\n",
            "\u001b[K     |████████████████████████████████| 761 kB 26.6 MB/s \n",
            "\u001b[?25hRequirement already satisfied: PyYAML in /usr/local/lib/python3.8/dist-packages (from pyngrok) (6.0)\n",
            "Building wheels for collected packages: pyngrok\n",
            "  Building wheel for pyngrok (setup.py) ... \u001b[?25l\u001b[?25hdone\n",
            "  Created wheel for pyngrok: filename=pyngrok-5.2.1-py3-none-any.whl size=19792 sha256=70744671292210fe0e0751e25d656b0cd142b2b9340f1e260261a7a846dbd852\n",
            "  Stored in directory: /root/.cache/pip/wheels/5d/f2/70/526da675d32f17577ec47ac4c663084efe39d47c826b6c3bb1\n",
            "Successfully built pyngrok\n",
            "Installing collected packages: pyngrok\n",
            "Successfully installed pyngrok-5.2.1\n",
            "Authtoken saved to configuration file: /root/.ngrok2/ngrok.yml\n",
            "Looking in indexes: https://pypi.org/simple, https://us-python.pkg.dev/colab-wheels/public/simple/\n",
            "Collecting virtualenv\n",
            "  Downloading virtualenv-20.17.1-py3-none-any.whl (8.8 MB)\n",
            "\u001b[K     |████████████████████████████████| 8.8 MB 32.5 MB/s \n",
            "\u001b[?25hCollecting distlib<1,>=0.3.6\n",
            "  Downloading distlib-0.3.6-py2.py3-none-any.whl (468 kB)\n",
            "\u001b[K     |████████████████████████████████| 468 kB 56.9 MB/s \n",
            "\u001b[?25hRequirement already satisfied: platformdirs<3,>=2.4 in /usr/local/lib/python3.8/dist-packages (from virtualenv) (2.5.4)\n",
            "Requirement already satisfied: filelock<4,>=3.4.1 in /usr/local/lib/python3.8/dist-packages (from virtualenv) (3.8.0)\n",
            "Installing collected packages: distlib, virtualenv\n",
            "Successfully installed distlib-0.3.6 virtualenv-20.17.1\n",
            "Error: Command '['/content/env/bin/python3', '-Im', 'ensurepip', '--upgrade', '--default-pip']' returned non-zero exit status 1.\n",
            "Looking in indexes: https://pypi.org/simple, https://us-python.pkg.dev/colab-wheels/public/simple/\n",
            "Requirement already satisfied: flask in /usr/local/lib/python3.8/dist-packages (1.1.4)\n",
            "Requirement already satisfied: Jinja2<3.0,>=2.10.1 in /usr/local/lib/python3.8/dist-packages (from flask) (2.11.3)\n",
            "Requirement already satisfied: itsdangerous<2.0,>=0.24 in /usr/local/lib/python3.8/dist-packages (from flask) (1.1.0)\n",
            "Requirement already satisfied: Werkzeug<2.0,>=0.15 in /usr/local/lib/python3.8/dist-packages (from flask) (1.0.1)\n",
            "Requirement already satisfied: click<8.0,>=5.1 in /usr/local/lib/python3.8/dist-packages (from flask) (7.1.2)\n",
            "Requirement already satisfied: MarkupSafe>=0.23 in /usr/local/lib/python3.8/dist-packages (from Jinja2<3.0,>=2.10.1->flask) (2.0.1)\n"
          ]
        }
      ],
      "source": [
        "!pip install flask-ngrok\n",
        "!pip install pyngrok\n",
        "!ngrok authtoken 2HgTBQPFZyFvYdonJK07wnI4uN3_7CACWcKfeT8dVfp5UGsv1\n",
        "!pip install virtualenv\n",
        "!python3 -m venv env\n",
        "!pip install flask"
      ]
    },
    {
      "cell_type": "code",
      "execution_count": null,
      "metadata": {
        "colab": {
          "base_uri": "https://localhost:8080/"
        },
        "id": "MjZcG_S0hWOz",
        "outputId": "19f4b1e2-0bbe-4f96-94aa-d5c44c451471"
      },
      "outputs": [
        {
          "output_type": "stream",
          "name": "stdout",
          "text": [
            "Drive already mounted at /content/drive; to attempt to forcibly remount, call drive.mount(\"/content/drive\", force_remount=True).\n",
            " * Serving Flask app \"__main__\" (lazy loading)\n",
            " * Environment: production\n",
            "\u001b[31m   WARNING: This is a development server. Do not use it in a production deployment.\u001b[0m\n",
            "\u001b[2m   Use a production WSGI server instead.\u001b[0m\n",
            " * Debug mode: off\n"
          ]
        },
        {
          "output_type": "stream",
          "name": "stderr",
          "text": [
            "INFO:werkzeug: * Running on http://127.0.0.1:5000/ (Press CTRL+C to quit)\n"
          ]
        },
        {
          "output_type": "stream",
          "name": "stdout",
          "text": [
            " * Running on http://e2b3-35-236-249-111.ngrok.io\n",
            " * Traffic stats available on http://127.0.0.1:4040\n"
          ]
        },
        {
          "output_type": "stream",
          "name": "stderr",
          "text": [
            "INFO:werkzeug:127.0.0.1 - - [08/Dec/2022 00:32:30] \"\u001b[37mGET / HTTP/1.1\u001b[0m\" 200 -\n",
            "INFO:werkzeug:127.0.0.1 - - [08/Dec/2022 00:32:30] \"\u001b[33mGET /favicon.ico HTTP/1.1\u001b[0m\" 404 -\n",
            "INFO:werkzeug:127.0.0.1 - - [08/Dec/2022 00:34:04] \"\u001b[37mGET / HTTP/1.1\u001b[0m\" 200 -\n",
            "/usr/local/lib/python3.8/dist-packages/sklearn/base.py:450: UserWarning: X does not have valid feature names, but MLPClassifier was fitted with feature names\n",
            "  warnings.warn(\n",
            "INFO:werkzeug:127.0.0.1 - - [08/Dec/2022 00:35:04] \"\u001b[37mPOST / HTTP/1.1\u001b[0m\" 200 -\n",
            "/usr/local/lib/python3.8/dist-packages/sklearn/base.py:450: UserWarning: X does not have valid feature names, but MLPClassifier was fitted with feature names\n",
            "  warnings.warn(\n",
            "INFO:werkzeug:127.0.0.1 - - [08/Dec/2022 00:35:22] \"\u001b[37mPOST / HTTP/1.1\u001b[0m\" 200 -\n",
            "/usr/local/lib/python3.8/dist-packages/sklearn/base.py:450: UserWarning: X does not have valid feature names, but MLPClassifier was fitted with feature names\n",
            "  warnings.warn(\n",
            "INFO:werkzeug:127.0.0.1 - - [08/Dec/2022 00:35:37] \"\u001b[37mPOST / HTTP/1.1\u001b[0m\" 200 -\n",
            "/usr/local/lib/python3.8/dist-packages/sklearn/base.py:450: UserWarning: X does not have valid feature names, but MLPClassifier was fitted with feature names\n",
            "  warnings.warn(\n",
            "INFO:werkzeug:127.0.0.1 - - [08/Dec/2022 00:36:41] \"\u001b[37mPOST / HTTP/1.1\u001b[0m\" 200 -\n"
          ]
        }
      ],
      "source": [
        "from numpy import disp\n",
        "from flask import Flask, render_template, request\n",
        "from flask_ngrok import run_with_ngrok\n",
        "from google.colab import drive\n",
        "import pickle as pkl\n",
        "from sklearn.neural_network import MLPClassifier\n",
        "import pandas as pd\n",
        "\n",
        "drive.mount('/content/drive')\n",
        "\n",
        "rede_dwnld = pkl.load(open('/content/drive/MyDrive/RedeNeural/model.pkl', 'rb'))\n",
        "\n",
        "template = '/content/drive/MyDrive/eng1111_extras/template'\n",
        "static = '/content/drive/MyDrive/eng1111_extras/static'\n",
        "\n",
        "app = Flask(__name__, template_folder = template, static_folder = static)\n",
        "\n",
        "run_with_ngrok(app)\n",
        "\n",
        "@app.route('/', methods=['GET', 'POST'])\n",
        "\n",
        "def gfg():\n",
        "    if request.method == \"POST\":\n",
        "       nome = request.form.get(\"nome\")\n",
        "       email = request.form.get(\"email\")\n",
        "       idade = request.form.get(\"idade\")\n",
        "       genero = request.form.get(\"genero\")\n",
        "       trabalho = request.form.get(\"trabalho\")\n",
        "       residencia = request.form.get(\"residencia\")\n",
        "       hipertensao = request.form.get(\"hipertensao\")\n",
        "       cardiaco = request.form.get(\"cardiaco\")\n",
        "       status = request.form.get(\"status\")\n",
        "       glicose = request.form.get(\"glicose\")\n",
        "       imc = request.form.get(\"imc\")\n",
        "       \n",
        "       nome = str(nome)\n",
        "       idade = int(idade)\n",
        "       genero = str(genero)\n",
        "       trabalho = str(trabalho)\n",
        "       residencia = str(residencia)\n",
        "       hipertensao = str(hipertensao)\n",
        "       cardiaco = str(cardiaco)\n",
        "       status = str(status)\n",
        "       glicose = float(glicose)\n",
        "       imc = float(imc)\n",
        "       \n",
        "       data = [ [genero, idade, hipertensao, cardiaco, trabalho, residencia, glicose, imc, status] ]\n",
        "       df = pd.DataFrame(data,columns=['gender', 'age', 'hypertension', 'heart_disease', 'work_type', 'Residence_type', 'avg_glucose_level', 'bmi', 'smoking_status'])\n",
        "\n",
        "       df.gender.replace({'masculino':0,'feminino':1},inplace=True)\n",
        "       df.work_type.replace({'nunca trabalhou':0,'crianças':1,'autonomo':2,'privado':3,'governo':4},inplace=True)\n",
        "       df.Residence_type.replace({'rural':0,'urbana':1},inplace=True)\n",
        "       df.smoking_status.replace({'nunca fumou':0,'ja fumou':1,'Fuma regularmente':2},inplace=True)\n",
        "       df.hypertension.replace({'naoh':0, 'simh':1},inplace=True)\n",
        "       df.heart_disease.replace({'naoc':0, 'simc':1},inplace=True)\n",
        "\n",
        "       proba = rede_dwnld.predict_proba(df.values[0:1])[0][1]\n",
        "       if (proba*100)<1:\n",
        "         return '''\n",
        "<!DOCTYPE html>\n",
        "<html>\n",
        "    <head>\n",
        "        <meta charset=\"UTF-8\">\n",
        "        <meta http-equiv=\"X-UA-Compatible\" content=\"IE=edge\">\n",
        "        <meta name=\"viewport\" content=\n",
        "            \"width=device-width, initial-scale=1.0\">\n",
        "        <title>\n",
        "            A probabilidade de ''' +nome+ ''' ter um avc é extremamente baixo\n",
        "        </title>\n",
        "     \n",
        "        <style>\n",
        "            body {\n",
        "                background-color: #ad3b2b;\n",
        "                font-family: Arial;\n",
        "                text-align: center;\n",
        "            }\n",
        "        </style>\n",
        "\n",
        "    </head>\n",
        "    <body>\n",
        "        <h1>A probabilidade de '''+nome+''' ter um avc é extremamente baixo</h1>\n",
        "    </body>\n",
        "</html>\n",
        "''';\n",
        "       return '''\n",
        "<!DOCTYPE html>\n",
        "<html>\n",
        "    <head>\n",
        "        <meta charset=\"UTF-8\">\n",
        "        <meta http-equiv=\"X-UA-Compatible\" content=\"IE=edge\">\n",
        "        <meta name=\"viewport\" content=\n",
        "            \"width=device-width, initial-scale=1.0\">\n",
        "        <title>\n",
        "            A probabilidade de ''' +nome+ ''' ter um avc é '''+str(round(proba*100, 2))+'''%\n",
        "        </title>\n",
        "     \n",
        "        <style>\n",
        "            body {\n",
        "                background-color: #ad3b2b;\n",
        "                font-family: Arial;\n",
        "                text-align: center;\n",
        "            }\n",
        "        </style>\n",
        "\n",
        "    </head>\n",
        "    <body>\n",
        "        <h1>A probabilidade de '''+nome+''' ter um avc é '''+str(round(proba*100, 2))+'''%</h1>\n",
        "    </body>\n",
        "</html>\n",
        "''';\n",
        "    return render_template(\"form.html\")\n",
        "\n",
        "#def home():\n",
        "#  return render_template('form.html')\n",
        "\n",
        "app.run()\n",
        "\n",
        "#2HgTBQPFZyFvYdonJK07wnI4uN3_7CACWcKfeT8dVfp5UGsv1\n"
      ]
    },
    {
      "cell_type": "code",
      "execution_count": null,
      "metadata": {
        "id": "hRUpEJ_Slwwh"
      },
      "outputs": [],
      "source": []
    },
    {
      "cell_type": "markdown",
      "source": [
        "https://stackoverflow.com/questions/66030868/error-rendering-html-template-with-flask-and-google-colab\n",
        "\n",
        "https://www.geeksforgeeks.org/different-ways-to-create-pandas-dataframe/\n",
        "\n"
      ],
      "metadata": {
        "id": "asR2p2HgCYe1"
      }
    }
  ],
  "metadata": {
    "colab": {
      "provenance": []
    },
    "kernelspec": {
      "display_name": "Python 3",
      "name": "python3"
    },
    "language_info": {
      "name": "python"
    }
  },
  "nbformat": 4,
  "nbformat_minor": 0
}